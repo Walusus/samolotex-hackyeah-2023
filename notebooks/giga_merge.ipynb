{
  "nbformat": 4,
  "nbformat_minor": 0,
  "metadata": {
    "colab": {
      "provenance": []
    },
    "kernelspec": {
      "name": "python3",
      "display_name": "Python 3"
    },
    "language_info": {
      "name": "python"
    }
  },
  "cells": [
    {
      "cell_type": "code",
      "execution_count": 296,
      "metadata": {
        "id": "s4RhtOyMA5BC"
      },
      "outputs": [],
      "source": [
        "import pandas as pd"
      ]
    },
    {
      "cell_type": "code",
      "source": [
        "df_etaty = pd.read_csv('SIO etaty.csv')\n",
        "df_staniny = pd.read_csv('staniny2022.csv')\n",
        "df_subwencja = pd.read_csv('subwencja_2022.csv')\n",
        "df_sio = pd.read_csv('SIO_30.09.2021.csv')"
      ],
      "metadata": {
        "id": "uC8Ih6ioFU8S"
      },
      "execution_count": 297,
      "outputs": []
    },
    {
      "cell_type": "markdown",
      "source": [
        "Clean staniny"
      ],
      "metadata": {
        "id": "kYTB6BdiOgEt"
      }
    },
    {
      "cell_type": "code",
      "source": [
        "df_staniny = df_staniny.rename(columns={'Staniny egzaminów 2022 r.': 'Nazwa szkoły / placówki'})"
      ],
      "metadata": {
        "id": "0Xc6ugZfOhjU"
      },
      "execution_count": 298,
      "outputs": []
    },
    {
      "cell_type": "markdown",
      "source": [
        "Clean etaty"
      ],
      "metadata": {
        "id": "wt789P3xGHzl"
      }
    },
    {
      "cell_type": "code",
      "source": [
        "cols_to_keep = [\n",
        "    'Nazwa szkoły / placówki',\n",
        "    'Etat - umowa',\n",
        "    'Etat - godziny ponadwymiarowe',\n",
        "    'Etat niesubwencyjny - formy zatrudnienia inne niż KN',\n",
        "    'Etat niesubwencyjny - nieobecności',\n",
        "    'Etat subwencyjny - ogółem',\n",
        "    'Etat subwencyjny - bez stopnia awansu',\n",
        "    'Etat subwencyjny - mianowany',\n",
        "    'Etat subwencyjny - dyplomowany',\n",
        "    'Etat niesubwencyjny - ogółem',\n",
        "]\n",
        "\n",
        "df_etaty = df_etaty[df_etaty['Typ szkoły / placówki'] == 'Szkoła podstawowa']\n",
        "df_etaty = df_etaty[cols_to_keep]\n"
      ],
      "metadata": {
        "id": "2mYvilcLFr8K"
      },
      "execution_count": 299,
      "outputs": []
    },
    {
      "cell_type": "markdown",
      "source": [
        "Clean SIO"
      ],
      "metadata": {
        "id": "RosFWD_wHT_S"
      }
    },
    {
      "cell_type": "code",
      "source": [
        "ps = [f\"P{i}\" for i in range(1,73)]"
      ],
      "metadata": {
        "id": "g6DPiW8vPAFn"
      },
      "execution_count": 300,
      "outputs": []
    },
    {
      "cell_type": "code",
      "source": [
        "df_sio = df_sio.rename(columns={'Nazwa szkoły/placówki': 'Nazwa szkoły / placówki'})\n",
        "\n",
        "cols_to_keep = [\n",
        "    'Nazwa szkoły / placówki',\n",
        "    'Liczba uczniów',\n",
        "    'Liczba uczniów na wsi',\n",
        "    'Liczba uczniów w mieście do 5tys.',\n",
        "    'Liczba uczniów poza szkołą',\n",
        "]\n",
        "cols_to_keep.extend(ps)\n",
        "\n",
        "df_sio = df_sio[df_sio['Typ szkoły/placówki'] == 'Szkoła podstawowa']\n",
        "df_sio = df_sio[cols_to_keep]\n",
        "\n",
        "\n"
      ],
      "metadata": {
        "id": "jVVwZtISHRJ3"
      },
      "execution_count": 301,
      "outputs": []
    },
    {
      "cell_type": "markdown",
      "source": [
        "---"
      ],
      "metadata": {
        "id": "HheK1j4lnJGx"
      }
    },
    {
      "cell_type": "code",
      "source": [
        "mini_merge_df = df_etaty.merge(df_staniny, on='Nazwa szkoły / placówki', how='inner')\n",
        "mini_merge_df = mini_merge_df.merge(df_sio, on='Nazwa szkoły / placówki', how='inner')"
      ],
      "metadata": {
        "id": "agP9M4IZL6gx"
      },
      "execution_count": 302,
      "outputs": []
    },
    {
      "cell_type": "markdown",
      "source": [
        "Dodanie subwencji"
      ],
      "metadata": {
        "id": "Sl3OCem8VA4R"
      }
    },
    {
      "cell_type": "code",
      "source": [
        "def get_float(row, field_name):\n",
        "  vals = [float(str(val).replace(' ', '').replace(',', '.')) for val in row[field_name].values]\n",
        "  if len(vals) > 1:\n",
        "    return vals\n",
        "  else:\n",
        "    return vals[0]"
      ],
      "metadata": {
        "id": "hBgRqqUtgNai"
      },
      "execution_count": 303,
      "outputs": []
    },
    {
      "cell_type": "code",
      "source": [
        "subw_per_type = {}\n",
        "\n",
        "for p in ps:\n",
        "  row = df_subwencja[df_subwencja['Kategoria uczniów (shortcut)'] == p]\n",
        "  total_val = get_float(row, 'Kwota razem w zł')\n",
        "  students = get_float(row, 'Uczniowie przelicz.')\n",
        "\n",
        "  subw_per_stud = total_val/students if students else 0.0\n",
        "  subw_per_type[p] = subw_per_stud"
      ],
      "metadata": {
        "id": "flL50ilMPDyO"
      },
      "execution_count": 304,
      "outputs": []
    },
    {
      "cell_type": "code",
      "source": [
        "giga_merge_df = mini_merge_df.copy()"
      ],
      "metadata": {
        "id": "eQu-YDE7aIer"
      },
      "execution_count": 305,
      "outputs": []
    },
    {
      "cell_type": "code",
      "source": [
        "for col, weight in subw_per_type.items():\n",
        "    new_col = f\"{col}_subwencja_total\"\n",
        "    giga_merge_df[col] = get_float(giga_merge_df, col)\n",
        "    giga_merge_df[new_col] = giga_merge_df[col] * weight"
      ],
      "metadata": {
        "colab": {
          "base_uri": "https://localhost:8080/"
        },
        "id": "VJyIh630Ylss",
        "outputId": "daf75c6f-8cb9-47cb-90a9-687483d99e96"
      },
      "execution_count": 306,
      "outputs": [
        {
          "output_type": "stream",
          "name": "stderr",
          "text": [
            "<ipython-input-306-4620af1b61b1>:4: PerformanceWarning: DataFrame is highly fragmented.  This is usually the result of calling `frame.insert` many times, which has poor performance.  Consider joining all columns at once using pd.concat(axis=1) instead. To get a de-fragmented frame, use `newframe = frame.copy()`\n",
            "  giga_merge_df[new_col] = giga_merge_df[col] * weight\n",
            "<ipython-input-306-4620af1b61b1>:4: PerformanceWarning: DataFrame is highly fragmented.  This is usually the result of calling `frame.insert` many times, which has poor performance.  Consider joining all columns at once using pd.concat(axis=1) instead. To get a de-fragmented frame, use `newframe = frame.copy()`\n",
            "  giga_merge_df[new_col] = giga_merge_df[col] * weight\n",
            "<ipython-input-306-4620af1b61b1>:4: PerformanceWarning: DataFrame is highly fragmented.  This is usually the result of calling `frame.insert` many times, which has poor performance.  Consider joining all columns at once using pd.concat(axis=1) instead. To get a de-fragmented frame, use `newframe = frame.copy()`\n",
            "  giga_merge_df[new_col] = giga_merge_df[col] * weight\n",
            "<ipython-input-306-4620af1b61b1>:4: PerformanceWarning: DataFrame is highly fragmented.  This is usually the result of calling `frame.insert` many times, which has poor performance.  Consider joining all columns at once using pd.concat(axis=1) instead. To get a de-fragmented frame, use `newframe = frame.copy()`\n",
            "  giga_merge_df[new_col] = giga_merge_df[col] * weight\n",
            "<ipython-input-306-4620af1b61b1>:4: PerformanceWarning: DataFrame is highly fragmented.  This is usually the result of calling `frame.insert` many times, which has poor performance.  Consider joining all columns at once using pd.concat(axis=1) instead. To get a de-fragmented frame, use `newframe = frame.copy()`\n",
            "  giga_merge_df[new_col] = giga_merge_df[col] * weight\n",
            "<ipython-input-306-4620af1b61b1>:4: PerformanceWarning: DataFrame is highly fragmented.  This is usually the result of calling `frame.insert` many times, which has poor performance.  Consider joining all columns at once using pd.concat(axis=1) instead. To get a de-fragmented frame, use `newframe = frame.copy()`\n",
            "  giga_merge_df[new_col] = giga_merge_df[col] * weight\n",
            "<ipython-input-306-4620af1b61b1>:4: PerformanceWarning: DataFrame is highly fragmented.  This is usually the result of calling `frame.insert` many times, which has poor performance.  Consider joining all columns at once using pd.concat(axis=1) instead. To get a de-fragmented frame, use `newframe = frame.copy()`\n",
            "  giga_merge_df[new_col] = giga_merge_df[col] * weight\n",
            "<ipython-input-306-4620af1b61b1>:4: PerformanceWarning: DataFrame is highly fragmented.  This is usually the result of calling `frame.insert` many times, which has poor performance.  Consider joining all columns at once using pd.concat(axis=1) instead. To get a de-fragmented frame, use `newframe = frame.copy()`\n",
            "  giga_merge_df[new_col] = giga_merge_df[col] * weight\n",
            "<ipython-input-306-4620af1b61b1>:4: PerformanceWarning: DataFrame is highly fragmented.  This is usually the result of calling `frame.insert` many times, which has poor performance.  Consider joining all columns at once using pd.concat(axis=1) instead. To get a de-fragmented frame, use `newframe = frame.copy()`\n",
            "  giga_merge_df[new_col] = giga_merge_df[col] * weight\n",
            "<ipython-input-306-4620af1b61b1>:4: PerformanceWarning: DataFrame is highly fragmented.  This is usually the result of calling `frame.insert` many times, which has poor performance.  Consider joining all columns at once using pd.concat(axis=1) instead. To get a de-fragmented frame, use `newframe = frame.copy()`\n",
            "  giga_merge_df[new_col] = giga_merge_df[col] * weight\n",
            "<ipython-input-306-4620af1b61b1>:4: PerformanceWarning: DataFrame is highly fragmented.  This is usually the result of calling `frame.insert` many times, which has poor performance.  Consider joining all columns at once using pd.concat(axis=1) instead. To get a de-fragmented frame, use `newframe = frame.copy()`\n",
            "  giga_merge_df[new_col] = giga_merge_df[col] * weight\n",
            "<ipython-input-306-4620af1b61b1>:4: PerformanceWarning: DataFrame is highly fragmented.  This is usually the result of calling `frame.insert` many times, which has poor performance.  Consider joining all columns at once using pd.concat(axis=1) instead. To get a de-fragmented frame, use `newframe = frame.copy()`\n",
            "  giga_merge_df[new_col] = giga_merge_df[col] * weight\n",
            "<ipython-input-306-4620af1b61b1>:4: PerformanceWarning: DataFrame is highly fragmented.  This is usually the result of calling `frame.insert` many times, which has poor performance.  Consider joining all columns at once using pd.concat(axis=1) instead. To get a de-fragmented frame, use `newframe = frame.copy()`\n",
            "  giga_merge_df[new_col] = giga_merge_df[col] * weight\n",
            "<ipython-input-306-4620af1b61b1>:4: PerformanceWarning: DataFrame is highly fragmented.  This is usually the result of calling `frame.insert` many times, which has poor performance.  Consider joining all columns at once using pd.concat(axis=1) instead. To get a de-fragmented frame, use `newframe = frame.copy()`\n",
            "  giga_merge_df[new_col] = giga_merge_df[col] * weight\n",
            "<ipython-input-306-4620af1b61b1>:4: PerformanceWarning: DataFrame is highly fragmented.  This is usually the result of calling `frame.insert` many times, which has poor performance.  Consider joining all columns at once using pd.concat(axis=1) instead. To get a de-fragmented frame, use `newframe = frame.copy()`\n",
            "  giga_merge_df[new_col] = giga_merge_df[col] * weight\n",
            "<ipython-input-306-4620af1b61b1>:4: PerformanceWarning: DataFrame is highly fragmented.  This is usually the result of calling `frame.insert` many times, which has poor performance.  Consider joining all columns at once using pd.concat(axis=1) instead. To get a de-fragmented frame, use `newframe = frame.copy()`\n",
            "  giga_merge_df[new_col] = giga_merge_df[col] * weight\n",
            "<ipython-input-306-4620af1b61b1>:4: PerformanceWarning: DataFrame is highly fragmented.  This is usually the result of calling `frame.insert` many times, which has poor performance.  Consider joining all columns at once using pd.concat(axis=1) instead. To get a de-fragmented frame, use `newframe = frame.copy()`\n",
            "  giga_merge_df[new_col] = giga_merge_df[col] * weight\n",
            "<ipython-input-306-4620af1b61b1>:4: PerformanceWarning: DataFrame is highly fragmented.  This is usually the result of calling `frame.insert` many times, which has poor performance.  Consider joining all columns at once using pd.concat(axis=1) instead. To get a de-fragmented frame, use `newframe = frame.copy()`\n",
            "  giga_merge_df[new_col] = giga_merge_df[col] * weight\n",
            "<ipython-input-306-4620af1b61b1>:4: PerformanceWarning: DataFrame is highly fragmented.  This is usually the result of calling `frame.insert` many times, which has poor performance.  Consider joining all columns at once using pd.concat(axis=1) instead. To get a de-fragmented frame, use `newframe = frame.copy()`\n",
            "  giga_merge_df[new_col] = giga_merge_df[col] * weight\n",
            "<ipython-input-306-4620af1b61b1>:4: PerformanceWarning: DataFrame is highly fragmented.  This is usually the result of calling `frame.insert` many times, which has poor performance.  Consider joining all columns at once using pd.concat(axis=1) instead. To get a de-fragmented frame, use `newframe = frame.copy()`\n",
            "  giga_merge_df[new_col] = giga_merge_df[col] * weight\n",
            "<ipython-input-306-4620af1b61b1>:4: PerformanceWarning: DataFrame is highly fragmented.  This is usually the result of calling `frame.insert` many times, which has poor performance.  Consider joining all columns at once using pd.concat(axis=1) instead. To get a de-fragmented frame, use `newframe = frame.copy()`\n",
            "  giga_merge_df[new_col] = giga_merge_df[col] * weight\n",
            "<ipython-input-306-4620af1b61b1>:4: PerformanceWarning: DataFrame is highly fragmented.  This is usually the result of calling `frame.insert` many times, which has poor performance.  Consider joining all columns at once using pd.concat(axis=1) instead. To get a de-fragmented frame, use `newframe = frame.copy()`\n",
            "  giga_merge_df[new_col] = giga_merge_df[col] * weight\n",
            "<ipython-input-306-4620af1b61b1>:4: PerformanceWarning: DataFrame is highly fragmented.  This is usually the result of calling `frame.insert` many times, which has poor performance.  Consider joining all columns at once using pd.concat(axis=1) instead. To get a de-fragmented frame, use `newframe = frame.copy()`\n",
            "  giga_merge_df[new_col] = giga_merge_df[col] * weight\n"
          ]
        }
      ]
    },
    {
      "cell_type": "code",
      "source": [
        "giga_merge_df"
      ],
      "metadata": {
        "colab": {
          "base_uri": "https://localhost:8080/",
          "height": 856
        },
        "id": "xHro8kCrkrrP",
        "outputId": "003b0734-379c-4f60-8f0c-3c3c97ae3032"
      },
      "execution_count": 307,
      "outputs": [
        {
          "output_type": "execute_result",
          "data": {
            "text/plain": [
              "                             Nazwa szkoły / placówki Etat - umowa  \\\n",
              "0    SZKOŁA PODSTAWOWA NR 5 IM. HENRYKA SIENKIEWICZA        29,91   \n",
              "1  SZKOŁA PODSTAWOWA NR 6 IM. MARII SKŁODOWSKIEJ ...        43,97   \n",
              "2  SZKOŁA PODSTAWOWA NR 4 IM. MIKOŁAJA KOPERNIKA ...        25,43   \n",
              "3     SZKOŁA PODSTAWOWA NR 9 IM.WŁ.JAGIEŁŁY W KUTNIE        66,71   \n",
              "4  SZKOŁA PODSTAWOWA NR 1 IM.TADEUSZA KOŚCIUSZKI ...        92,66   \n",
              "5  SZKOŁA PODSTAWOWA NR 2 IM. MARSZAŁKA JÓZEFA PI...        30,51   \n",
              "6       SZKOŁA PODSTAWOWA NR 7 IM. ADAMA MICKIEWICZA        32,17   \n",
              "\n",
              "  Etat - godziny ponadwymiarowe  \\\n",
              "0                          4,31   \n",
              "1                          7,29   \n",
              "2                          4,94   \n",
              "3                         16,92   \n",
              "4                         14,91   \n",
              "5                          3,43   \n",
              "6                          3,50   \n",
              "\n",
              "  Etat niesubwencyjny - formy zatrudnienia inne niż KN  \\\n",
              "0                                               0,00     \n",
              "1                                               0,00     \n",
              "2                                               0,00     \n",
              "3                                               0,00     \n",
              "4                                               0,00     \n",
              "5                                               0,00     \n",
              "6                                               0,00     \n",
              "\n",
              "  Etat niesubwencyjny - nieobecności Etat subwencyjny - ogółem  \\\n",
              "0                               0,00                     29,91   \n",
              "1                               0,00                     43,97   \n",
              "2                               0,00                     25,43   \n",
              "3                               2,00                     64,71   \n",
              "4                               5,00                     87,66   \n",
              "5                               0,00                     30,51   \n",
              "6                               0,00                     32,17   \n",
              "\n",
              "  Etat subwencyjny - bez stopnia awansu Etat subwencyjny - mianowany  \\\n",
              "0                                  6,50                         8,61   \n",
              "1                                  4,61                        17,87   \n",
              "2                                  1,95                         8,78   \n",
              "3                                  8,56                         8,55   \n",
              "4                                 10,00                        25,33   \n",
              "5                                  5,00                         3,83   \n",
              "6                                  4,00                         8,95   \n",
              "\n",
              "  Etat subwencyjny - dyplomowany Etat niesubwencyjny - ogółem  ...  \\\n",
              "0                          14,80                         0,00  ...   \n",
              "1                          21,49                         0,00  ...   \n",
              "2                          14,70                         0,00  ...   \n",
              "3                          47,60                         2,00  ...   \n",
              "4                          52,33                         5,00  ...   \n",
              "5                          21,68                         0,00  ...   \n",
              "6                          19,22                         0,00  ...   \n",
              "\n",
              "   P63_subwencja_total  P64_subwencja_total  P65_subwencja_total  \\\n",
              "0                  0.0                  0.0                  0.0   \n",
              "1                  0.0                  0.0                  0.0   \n",
              "2                  0.0                  0.0                  0.0   \n",
              "3                  0.0                  0.0                  0.0   \n",
              "4                  0.0                  0.0                  0.0   \n",
              "5                  0.0                  0.0                  0.0   \n",
              "6                  0.0                  0.0                  0.0   \n",
              "\n",
              "   P66_subwencja_total P67_subwencja_total P68_subwencja_total  \\\n",
              "0                  0.0                 0.0                 0.0   \n",
              "1                  0.0                 0.0                 0.0   \n",
              "2                  0.0                 0.0                 0.0   \n",
              "3                  0.0                 0.0                 0.0   \n",
              "4                  0.0                 0.0                 0.0   \n",
              "5                  0.0                 0.0                 0.0   \n",
              "6                  0.0                 0.0                 0.0   \n",
              "\n",
              "  P69_subwencja_total P70_subwencja_total  P71_subwencja_total  \\\n",
              "0                 0.0                 0.0                  0.0   \n",
              "1                 0.0                 0.0                  0.0   \n",
              "2                 0.0                 0.0                  0.0   \n",
              "3                 0.0                 0.0                  0.0   \n",
              "4                 0.0                 0.0                  0.0   \n",
              "5                 0.0                 0.0                  0.0   \n",
              "6                 0.0                 0.0                  0.0   \n",
              "\n",
              "   P72_subwencja_total  \n",
              "0                  0.0  \n",
              "1                  0.0  \n",
              "2                  0.0  \n",
              "3                  0.0  \n",
              "4                  0.0  \n",
              "5                  0.0  \n",
              "6                  0.0  \n",
              "\n",
              "[7 rows x 162 columns]"
            ],
            "text/html": [
              "\n",
              "  <div id=\"df-7c7d9a39-e239-4a90-ae7f-2e93e7eecf9b\" class=\"colab-df-container\">\n",
              "    <div>\n",
              "<style scoped>\n",
              "    .dataframe tbody tr th:only-of-type {\n",
              "        vertical-align: middle;\n",
              "    }\n",
              "\n",
              "    .dataframe tbody tr th {\n",
              "        vertical-align: top;\n",
              "    }\n",
              "\n",
              "    .dataframe thead th {\n",
              "        text-align: right;\n",
              "    }\n",
              "</style>\n",
              "<table border=\"1\" class=\"dataframe\">\n",
              "  <thead>\n",
              "    <tr style=\"text-align: right;\">\n",
              "      <th></th>\n",
              "      <th>Nazwa szkoły / placówki</th>\n",
              "      <th>Etat - umowa</th>\n",
              "      <th>Etat - godziny ponadwymiarowe</th>\n",
              "      <th>Etat niesubwencyjny - formy zatrudnienia inne niż KN</th>\n",
              "      <th>Etat niesubwencyjny - nieobecności</th>\n",
              "      <th>Etat subwencyjny - ogółem</th>\n",
              "      <th>Etat subwencyjny - bez stopnia awansu</th>\n",
              "      <th>Etat subwencyjny - mianowany</th>\n",
              "      <th>Etat subwencyjny - dyplomowany</th>\n",
              "      <th>Etat niesubwencyjny - ogółem</th>\n",
              "      <th>...</th>\n",
              "      <th>P63_subwencja_total</th>\n",
              "      <th>P64_subwencja_total</th>\n",
              "      <th>P65_subwencja_total</th>\n",
              "      <th>P66_subwencja_total</th>\n",
              "      <th>P67_subwencja_total</th>\n",
              "      <th>P68_subwencja_total</th>\n",
              "      <th>P69_subwencja_total</th>\n",
              "      <th>P70_subwencja_total</th>\n",
              "      <th>P71_subwencja_total</th>\n",
              "      <th>P72_subwencja_total</th>\n",
              "    </tr>\n",
              "  </thead>\n",
              "  <tbody>\n",
              "    <tr>\n",
              "      <th>0</th>\n",
              "      <td>SZKOŁA PODSTAWOWA NR 5 IM. HENRYKA SIENKIEWICZA</td>\n",
              "      <td>29,91</td>\n",
              "      <td>4,31</td>\n",
              "      <td>0,00</td>\n",
              "      <td>0,00</td>\n",
              "      <td>29,91</td>\n",
              "      <td>6,50</td>\n",
              "      <td>8,61</td>\n",
              "      <td>14,80</td>\n",
              "      <td>0,00</td>\n",
              "      <td>...</td>\n",
              "      <td>0.0</td>\n",
              "      <td>0.0</td>\n",
              "      <td>0.0</td>\n",
              "      <td>0.0</td>\n",
              "      <td>0.0</td>\n",
              "      <td>0.0</td>\n",
              "      <td>0.0</td>\n",
              "      <td>0.0</td>\n",
              "      <td>0.0</td>\n",
              "      <td>0.0</td>\n",
              "    </tr>\n",
              "    <tr>\n",
              "      <th>1</th>\n",
              "      <td>SZKOŁA PODSTAWOWA NR 6 IM. MARII SKŁODOWSKIEJ ...</td>\n",
              "      <td>43,97</td>\n",
              "      <td>7,29</td>\n",
              "      <td>0,00</td>\n",
              "      <td>0,00</td>\n",
              "      <td>43,97</td>\n",
              "      <td>4,61</td>\n",
              "      <td>17,87</td>\n",
              "      <td>21,49</td>\n",
              "      <td>0,00</td>\n",
              "      <td>...</td>\n",
              "      <td>0.0</td>\n",
              "      <td>0.0</td>\n",
              "      <td>0.0</td>\n",
              "      <td>0.0</td>\n",
              "      <td>0.0</td>\n",
              "      <td>0.0</td>\n",
              "      <td>0.0</td>\n",
              "      <td>0.0</td>\n",
              "      <td>0.0</td>\n",
              "      <td>0.0</td>\n",
              "    </tr>\n",
              "    <tr>\n",
              "      <th>2</th>\n",
              "      <td>SZKOŁA PODSTAWOWA NR 4 IM. MIKOŁAJA KOPERNIKA ...</td>\n",
              "      <td>25,43</td>\n",
              "      <td>4,94</td>\n",
              "      <td>0,00</td>\n",
              "      <td>0,00</td>\n",
              "      <td>25,43</td>\n",
              "      <td>1,95</td>\n",
              "      <td>8,78</td>\n",
              "      <td>14,70</td>\n",
              "      <td>0,00</td>\n",
              "      <td>...</td>\n",
              "      <td>0.0</td>\n",
              "      <td>0.0</td>\n",
              "      <td>0.0</td>\n",
              "      <td>0.0</td>\n",
              "      <td>0.0</td>\n",
              "      <td>0.0</td>\n",
              "      <td>0.0</td>\n",
              "      <td>0.0</td>\n",
              "      <td>0.0</td>\n",
              "      <td>0.0</td>\n",
              "    </tr>\n",
              "    <tr>\n",
              "      <th>3</th>\n",
              "      <td>SZKOŁA PODSTAWOWA NR 9 IM.WŁ.JAGIEŁŁY W KUTNIE</td>\n",
              "      <td>66,71</td>\n",
              "      <td>16,92</td>\n",
              "      <td>0,00</td>\n",
              "      <td>2,00</td>\n",
              "      <td>64,71</td>\n",
              "      <td>8,56</td>\n",
              "      <td>8,55</td>\n",
              "      <td>47,60</td>\n",
              "      <td>2,00</td>\n",
              "      <td>...</td>\n",
              "      <td>0.0</td>\n",
              "      <td>0.0</td>\n",
              "      <td>0.0</td>\n",
              "      <td>0.0</td>\n",
              "      <td>0.0</td>\n",
              "      <td>0.0</td>\n",
              "      <td>0.0</td>\n",
              "      <td>0.0</td>\n",
              "      <td>0.0</td>\n",
              "      <td>0.0</td>\n",
              "    </tr>\n",
              "    <tr>\n",
              "      <th>4</th>\n",
              "      <td>SZKOŁA PODSTAWOWA NR 1 IM.TADEUSZA KOŚCIUSZKI ...</td>\n",
              "      <td>92,66</td>\n",
              "      <td>14,91</td>\n",
              "      <td>0,00</td>\n",
              "      <td>5,00</td>\n",
              "      <td>87,66</td>\n",
              "      <td>10,00</td>\n",
              "      <td>25,33</td>\n",
              "      <td>52,33</td>\n",
              "      <td>5,00</td>\n",
              "      <td>...</td>\n",
              "      <td>0.0</td>\n",
              "      <td>0.0</td>\n",
              "      <td>0.0</td>\n",
              "      <td>0.0</td>\n",
              "      <td>0.0</td>\n",
              "      <td>0.0</td>\n",
              "      <td>0.0</td>\n",
              "      <td>0.0</td>\n",
              "      <td>0.0</td>\n",
              "      <td>0.0</td>\n",
              "    </tr>\n",
              "    <tr>\n",
              "      <th>5</th>\n",
              "      <td>SZKOŁA PODSTAWOWA NR 2 IM. MARSZAŁKA JÓZEFA PI...</td>\n",
              "      <td>30,51</td>\n",
              "      <td>3,43</td>\n",
              "      <td>0,00</td>\n",
              "      <td>0,00</td>\n",
              "      <td>30,51</td>\n",
              "      <td>5,00</td>\n",
              "      <td>3,83</td>\n",
              "      <td>21,68</td>\n",
              "      <td>0,00</td>\n",
              "      <td>...</td>\n",
              "      <td>0.0</td>\n",
              "      <td>0.0</td>\n",
              "      <td>0.0</td>\n",
              "      <td>0.0</td>\n",
              "      <td>0.0</td>\n",
              "      <td>0.0</td>\n",
              "      <td>0.0</td>\n",
              "      <td>0.0</td>\n",
              "      <td>0.0</td>\n",
              "      <td>0.0</td>\n",
              "    </tr>\n",
              "    <tr>\n",
              "      <th>6</th>\n",
              "      <td>SZKOŁA PODSTAWOWA NR 7 IM. ADAMA MICKIEWICZA</td>\n",
              "      <td>32,17</td>\n",
              "      <td>3,50</td>\n",
              "      <td>0,00</td>\n",
              "      <td>0,00</td>\n",
              "      <td>32,17</td>\n",
              "      <td>4,00</td>\n",
              "      <td>8,95</td>\n",
              "      <td>19,22</td>\n",
              "      <td>0,00</td>\n",
              "      <td>...</td>\n",
              "      <td>0.0</td>\n",
              "      <td>0.0</td>\n",
              "      <td>0.0</td>\n",
              "      <td>0.0</td>\n",
              "      <td>0.0</td>\n",
              "      <td>0.0</td>\n",
              "      <td>0.0</td>\n",
              "      <td>0.0</td>\n",
              "      <td>0.0</td>\n",
              "      <td>0.0</td>\n",
              "    </tr>\n",
              "  </tbody>\n",
              "</table>\n",
              "<p>7 rows × 162 columns</p>\n",
              "</div>\n",
              "    <div class=\"colab-df-buttons\">\n",
              "\n",
              "  <div class=\"colab-df-container\">\n",
              "    <button class=\"colab-df-convert\" onclick=\"convertToInteractive('df-7c7d9a39-e239-4a90-ae7f-2e93e7eecf9b')\"\n",
              "            title=\"Convert this dataframe to an interactive table.\"\n",
              "            style=\"display:none;\">\n",
              "\n",
              "  <svg xmlns=\"http://www.w3.org/2000/svg\" height=\"24px\" viewBox=\"0 -960 960 960\">\n",
              "    <path d=\"M120-120v-720h720v720H120Zm60-500h600v-160H180v160Zm220 220h160v-160H400v160Zm0 220h160v-160H400v160ZM180-400h160v-160H180v160Zm440 0h160v-160H620v160ZM180-180h160v-160H180v160Zm440 0h160v-160H620v160Z\"/>\n",
              "  </svg>\n",
              "    </button>\n",
              "\n",
              "  <style>\n",
              "    .colab-df-container {\n",
              "      display:flex;\n",
              "      gap: 12px;\n",
              "    }\n",
              "\n",
              "    .colab-df-convert {\n",
              "      background-color: #E8F0FE;\n",
              "      border: none;\n",
              "      border-radius: 50%;\n",
              "      cursor: pointer;\n",
              "      display: none;\n",
              "      fill: #1967D2;\n",
              "      height: 32px;\n",
              "      padding: 0 0 0 0;\n",
              "      width: 32px;\n",
              "    }\n",
              "\n",
              "    .colab-df-convert:hover {\n",
              "      background-color: #E2EBFA;\n",
              "      box-shadow: 0px 1px 2px rgba(60, 64, 67, 0.3), 0px 1px 3px 1px rgba(60, 64, 67, 0.15);\n",
              "      fill: #174EA6;\n",
              "    }\n",
              "\n",
              "    .colab-df-buttons div {\n",
              "      margin-bottom: 4px;\n",
              "    }\n",
              "\n",
              "    [theme=dark] .colab-df-convert {\n",
              "      background-color: #3B4455;\n",
              "      fill: #D2E3FC;\n",
              "    }\n",
              "\n",
              "    [theme=dark] .colab-df-convert:hover {\n",
              "      background-color: #434B5C;\n",
              "      box-shadow: 0px 1px 3px 1px rgba(0, 0, 0, 0.15);\n",
              "      filter: drop-shadow(0px 1px 2px rgba(0, 0, 0, 0.3));\n",
              "      fill: #FFFFFF;\n",
              "    }\n",
              "  </style>\n",
              "\n",
              "    <script>\n",
              "      const buttonEl =\n",
              "        document.querySelector('#df-7c7d9a39-e239-4a90-ae7f-2e93e7eecf9b button.colab-df-convert');\n",
              "      buttonEl.style.display =\n",
              "        google.colab.kernel.accessAllowed ? 'block' : 'none';\n",
              "\n",
              "      async function convertToInteractive(key) {\n",
              "        const element = document.querySelector('#df-7c7d9a39-e239-4a90-ae7f-2e93e7eecf9b');\n",
              "        const dataTable =\n",
              "          await google.colab.kernel.invokeFunction('convertToInteractive',\n",
              "                                                    [key], {});\n",
              "        if (!dataTable) return;\n",
              "\n",
              "        const docLinkHtml = 'Like what you see? Visit the ' +\n",
              "          '<a target=\"_blank\" href=https://colab.research.google.com/notebooks/data_table.ipynb>data table notebook</a>'\n",
              "          + ' to learn more about interactive tables.';\n",
              "        element.innerHTML = '';\n",
              "        dataTable['output_type'] = 'display_data';\n",
              "        await google.colab.output.renderOutput(dataTable, element);\n",
              "        const docLink = document.createElement('div');\n",
              "        docLink.innerHTML = docLinkHtml;\n",
              "        element.appendChild(docLink);\n",
              "      }\n",
              "    </script>\n",
              "  </div>\n",
              "\n",
              "\n",
              "<div id=\"df-39398297-328a-45c0-974f-07e174b18995\">\n",
              "  <button class=\"colab-df-quickchart\" onclick=\"quickchart('df-39398297-328a-45c0-974f-07e174b18995')\"\n",
              "            title=\"Suggest charts.\"\n",
              "            style=\"display:none;\">\n",
              "\n",
              "<svg xmlns=\"http://www.w3.org/2000/svg\" height=\"24px\"viewBox=\"0 0 24 24\"\n",
              "     width=\"24px\">\n",
              "    <g>\n",
              "        <path d=\"M19 3H5c-1.1 0-2 .9-2 2v14c0 1.1.9 2 2 2h14c1.1 0 2-.9 2-2V5c0-1.1-.9-2-2-2zM9 17H7v-7h2v7zm4 0h-2V7h2v10zm4 0h-2v-4h2v4z\"/>\n",
              "    </g>\n",
              "</svg>\n",
              "  </button>\n",
              "\n",
              "<style>\n",
              "  .colab-df-quickchart {\n",
              "      --bg-color: #E8F0FE;\n",
              "      --fill-color: #1967D2;\n",
              "      --hover-bg-color: #E2EBFA;\n",
              "      --hover-fill-color: #174EA6;\n",
              "      --disabled-fill-color: #AAA;\n",
              "      --disabled-bg-color: #DDD;\n",
              "  }\n",
              "\n",
              "  [theme=dark] .colab-df-quickchart {\n",
              "      --bg-color: #3B4455;\n",
              "      --fill-color: #D2E3FC;\n",
              "      --hover-bg-color: #434B5C;\n",
              "      --hover-fill-color: #FFFFFF;\n",
              "      --disabled-bg-color: #3B4455;\n",
              "      --disabled-fill-color: #666;\n",
              "  }\n",
              "\n",
              "  .colab-df-quickchart {\n",
              "    background-color: var(--bg-color);\n",
              "    border: none;\n",
              "    border-radius: 50%;\n",
              "    cursor: pointer;\n",
              "    display: none;\n",
              "    fill: var(--fill-color);\n",
              "    height: 32px;\n",
              "    padding: 0;\n",
              "    width: 32px;\n",
              "  }\n",
              "\n",
              "  .colab-df-quickchart:hover {\n",
              "    background-color: var(--hover-bg-color);\n",
              "    box-shadow: 0 1px 2px rgba(60, 64, 67, 0.3), 0 1px 3px 1px rgba(60, 64, 67, 0.15);\n",
              "    fill: var(--button-hover-fill-color);\n",
              "  }\n",
              "\n",
              "  .colab-df-quickchart-complete:disabled,\n",
              "  .colab-df-quickchart-complete:disabled:hover {\n",
              "    background-color: var(--disabled-bg-color);\n",
              "    fill: var(--disabled-fill-color);\n",
              "    box-shadow: none;\n",
              "  }\n",
              "\n",
              "  .colab-df-spinner {\n",
              "    border: 2px solid var(--fill-color);\n",
              "    border-color: transparent;\n",
              "    border-bottom-color: var(--fill-color);\n",
              "    animation:\n",
              "      spin 1s steps(1) infinite;\n",
              "  }\n",
              "\n",
              "  @keyframes spin {\n",
              "    0% {\n",
              "      border-color: transparent;\n",
              "      border-bottom-color: var(--fill-color);\n",
              "      border-left-color: var(--fill-color);\n",
              "    }\n",
              "    20% {\n",
              "      border-color: transparent;\n",
              "      border-left-color: var(--fill-color);\n",
              "      border-top-color: var(--fill-color);\n",
              "    }\n",
              "    30% {\n",
              "      border-color: transparent;\n",
              "      border-left-color: var(--fill-color);\n",
              "      border-top-color: var(--fill-color);\n",
              "      border-right-color: var(--fill-color);\n",
              "    }\n",
              "    40% {\n",
              "      border-color: transparent;\n",
              "      border-right-color: var(--fill-color);\n",
              "      border-top-color: var(--fill-color);\n",
              "    }\n",
              "    60% {\n",
              "      border-color: transparent;\n",
              "      border-right-color: var(--fill-color);\n",
              "    }\n",
              "    80% {\n",
              "      border-color: transparent;\n",
              "      border-right-color: var(--fill-color);\n",
              "      border-bottom-color: var(--fill-color);\n",
              "    }\n",
              "    90% {\n",
              "      border-color: transparent;\n",
              "      border-bottom-color: var(--fill-color);\n",
              "    }\n",
              "  }\n",
              "</style>\n",
              "\n",
              "  <script>\n",
              "    async function quickchart(key) {\n",
              "      const quickchartButtonEl =\n",
              "        document.querySelector('#' + key + ' button');\n",
              "      quickchartButtonEl.disabled = true;  // To prevent multiple clicks.\n",
              "      quickchartButtonEl.classList.add('colab-df-spinner');\n",
              "      try {\n",
              "        const charts = await google.colab.kernel.invokeFunction(\n",
              "            'suggestCharts', [key], {});\n",
              "      } catch (error) {\n",
              "        console.error('Error during call to suggestCharts:', error);\n",
              "      }\n",
              "      quickchartButtonEl.classList.remove('colab-df-spinner');\n",
              "      quickchartButtonEl.classList.add('colab-df-quickchart-complete');\n",
              "    }\n",
              "    (() => {\n",
              "      let quickchartButtonEl =\n",
              "        document.querySelector('#df-39398297-328a-45c0-974f-07e174b18995 button');\n",
              "      quickchartButtonEl.style.display =\n",
              "        google.colab.kernel.accessAllowed ? 'block' : 'none';\n",
              "    })();\n",
              "  </script>\n",
              "</div>\n",
              "    </div>\n",
              "  </div>\n"
            ]
          },
          "metadata": {},
          "execution_count": 307
        }
      ]
    },
    {
      "cell_type": "markdown",
      "source": [
        "Normalize"
      ],
      "metadata": {
        "id": "MVCsna1Xc0uL"
      }
    },
    {
      "cell_type": "code",
      "source": [
        "for col in giga_merge_df.columns:\n",
        "  if col != 'Nazwa szkoły / placówki':\n",
        "    giga_merge_df[col] = get_float(giga_merge_df, col)"
      ],
      "metadata": {
        "id": "v3bbEIA0c2SN"
      },
      "execution_count": 308,
      "outputs": []
    },
    {
      "cell_type": "code",
      "source": [
        "giga_merge_df.to_csv('giga_merge.csv')"
      ],
      "metadata": {
        "id": "-ce0egSbaDbo"
      },
      "execution_count": 309,
      "outputs": []
    },
    {
      "cell_type": "markdown",
      "source": [
        "---"
      ],
      "metadata": {
        "id": "oHYB0TM1RcDW"
      }
    },
    {
      "cell_type": "code",
      "source": [
        "df_dochody = pd.read_csv('dochody_2022.csv')\n",
        "df_wydatki = pd.read_csv('wydatki_2022.csv')"
      ],
      "metadata": {
        "id": "Sc4lnnVfR7W3"
      },
      "execution_count": 310,
      "outputs": []
    },
    {
      "cell_type": "markdown",
      "source": [
        "Clean dochody"
      ],
      "metadata": {
        "id": "VbRd_xKNSLE-"
      }
    },
    {
      "cell_type": "code",
      "source": [
        "df_dochody = df_dochody.rename(columns={'Nazwa': 'Nazwa szkoły / placówki'})\n",
        "\n",
        "names_to_replace = {\n",
        "    \"Szkoła Podstawowa Nr 5\": \"SZKOŁA PODSTAWOWA NR 5 IM. HENRYKA SIENKIEWICZA\",\n",
        "    \"Szkoła Podstawowa Nr 6\": \"SZKOŁA PODSTAWOWA NR 6 IM. MARII SKŁODOWSKIEJ - CURIE W KUTNIE\",\n",
        "    \"Szkoła Podstawowa Nr 4\": \"SZKOŁA PODSTAWOWA NR 4 IM. MIKOŁAJA KOPERNIKA W KUTNIE\",\n",
        "    \"Szkoła Podstawowa Nr 9\": \"SZKOŁA PODSTAWOWA NR 9 IM.WŁ.JAGIEŁŁY W KUTNIE\",\n",
        "    \"Szkoła Podstawowa Nr 1\": \"SZKOŁA PODSTAWOWA NR 1 IM.TADEUSZA KOŚCIUSZKI W KUTNIE\",\n",
        "    \"Szkoła Podstawowa Nr 2\": \"SZKOŁA PODSTAWOWA NR 2 IM. MARSZAŁKA JÓZEFA PIŁSUDSKIEGO\",\n",
        "    \"Szkoła Podstawowa Nr 7\": \"SZKOŁA PODSTAWOWA NR 7 IM. ADAMA MICKIEWICZA\"\n",
        "}\n",
        "cols_to_keep = [\n",
        "    'Nazwa szkoły / placówki',\n",
        "    'DW',\n",
        "    'Paragraf'\n",
        "]\n",
        "df_dochody.replace(names_to_replace, inplace=True)\n",
        "df_dochody = df_dochody[cols_to_keep]\n",
        "\n",
        "df_dochody['DW'] = get_float(df_dochody, 'DW')"
      ],
      "metadata": {
        "id": "drvumiCPRVb4"
      },
      "execution_count": 311,
      "outputs": []
    },
    {
      "cell_type": "markdown",
      "source": [
        "Clean wydatki"
      ],
      "metadata": {
        "id": "87R5AGnDTMym"
      }
    },
    {
      "cell_type": "code",
      "source": [
        "df_wydatki = df_wydatki.rename(columns={'Nazwa': 'Nazwa szkoły / placówki'})\n",
        "\n",
        "cols_to_keep = [\n",
        "    'Nazwa szkoły / placówki',\n",
        "    'WW',\n",
        "    'Paragraf'\n",
        "]\n",
        "\n",
        "df_wydatki.replace(names_to_replace, inplace=True)\n",
        "df_wydatki = df_wydatki[cols_to_keep]\n",
        "\n",
        "df_wydatki['WW'] = get_float(df_wydatki, 'WW')"
      ],
      "metadata": {
        "id": "b1bHEAkOS2Cx"
      },
      "execution_count": 312,
      "outputs": []
    },
    {
      "cell_type": "code",
      "source": [
        "df_dochody.to_csv('dochody_clean.csv')"
      ],
      "metadata": {
        "id": "5Pb0IS6_TWx6"
      },
      "execution_count": 313,
      "outputs": []
    },
    {
      "cell_type": "code",
      "source": [
        "df_wydatki.to_csv('wydatki_clean.csv')"
      ],
      "metadata": {
        "id": "l6Qp9DxsTcQ6"
      },
      "execution_count": 314,
      "outputs": []
    }
  ]
}