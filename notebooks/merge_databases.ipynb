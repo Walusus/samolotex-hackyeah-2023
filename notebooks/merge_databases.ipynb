{
 "nbformat": 4,
 "nbformat_minor": 0,
 "metadata": {
  "colab": {
   "provenance": []
  },
  "kernelspec": {
   "name": "python3",
   "language": "python",
   "display_name": "Python 3 (ipykernel)"
  },
  "language_info": {
   "name": "python"
  }
 },
 "cells": [
  {
   "cell_type": "code",
   "execution_count": 1,
   "metadata": {
    "id": "s4RhtOyMA5BC",
    "ExecuteTime": {
     "end_time": "2023-10-01T07:03:00.699090Z",
     "start_time": "2023-10-01T07:03:00.440966Z"
    }
   },
   "outputs": [],
   "source": [
    "import pandas as pd"
   ]
  },
  {
   "cell_type": "markdown",
   "source": [
    "Load the data"
   ],
   "metadata": {
    "collapsed": false
   }
  },
  {
   "cell_type": "code",
   "source": [
    "df_etaty = pd.read_csv('SIO etaty.csv')\n",
    "df_staniny = pd.read_csv('staniny2022.csv')\n",
    "df_subwencja = pd.read_csv('subwencja_2022.csv')\n",
    "df_sio = pd.read_csv('SIO_30.09.2021.csv')"
   ],
   "metadata": {
    "id": "uC8Ih6ioFU8S",
    "ExecuteTime": {
     "end_time": "2023-10-01T07:03:01.574502Z",
     "start_time": "2023-10-01T07:03:01.566776Z"
    }
   },
   "execution_count": 2,
   "outputs": []
  },
  {
   "cell_type": "markdown",
   "source": [
    "Normalize `staniny` column name."
   ],
   "metadata": {
    "id": "kYTB6BdiOgEt"
   }
  },
  {
   "cell_type": "code",
   "source": [
    "df_staniny = df_staniny.rename(columns={'Staniny egzaminów 2022 r.': 'Nazwa szkoły / placówki'})"
   ],
   "metadata": {
    "id": "0Xc6ugZfOhjU",
    "ExecuteTime": {
     "end_time": "2023-10-01T07:03:03.267481Z",
     "start_time": "2023-10-01T07:03:03.262123Z"
    }
   },
   "execution_count": 3,
   "outputs": []
  },
  {
   "cell_type": "markdown",
   "source": [
    "Clean, filter and rename `etaty` data."
   ],
   "metadata": {
    "id": "wt789P3xGHzl"
   }
  },
  {
   "cell_type": "code",
   "source": [
    "cols_to_keep = [\n",
    "    'Nazwa szkoły / placówki',\n",
    "    'Etat - umowa',\n",
    "    'Etat - godziny ponadwymiarowe',\n",
    "    'Etat niesubwencyjny - formy zatrudnienia inne niż KN',\n",
    "    'Etat niesubwencyjny - nieobecności',\n",
    "    'Etat subwencyjny - ogółem',\n",
    "    'Etat subwencyjny - bez stopnia awansu',\n",
    "    'Etat subwencyjny - mianowany',\n",
    "    'Etat subwencyjny - dyplomowany',\n",
    "    'Etat niesubwencyjny - ogółem',\n",
    "]\n",
    "\n",
    "df_etaty = df_etaty[df_etaty['Typ szkoły / placówki'] == 'Szkoła podstawowa']\n",
    "df_etaty = df_etaty[cols_to_keep]\n"
   ],
   "metadata": {
    "id": "2mYvilcLFr8K",
    "ExecuteTime": {
     "end_time": "2023-10-01T07:03:05.673278Z",
     "start_time": "2023-10-01T07:03:05.671369Z"
    }
   },
   "execution_count": 4,
   "outputs": []
  },
  {
   "cell_type": "markdown",
   "source": [
    "Clean, filter and rename `SIO` data"
   ],
   "metadata": {
    "id": "RosFWD_wHT_S"
   }
  },
  {
   "cell_type": "code",
   "source": [
    "# List of all P{} student categories\n",
    "ps = [f\"P{i}\" for i in range(1,73)]"
   ],
   "metadata": {
    "id": "g6DPiW8vPAFn",
    "ExecuteTime": {
     "end_time": "2023-10-01T07:03:07.021521Z",
     "start_time": "2023-10-01T07:03:07.013162Z"
    }
   },
   "execution_count": 5,
   "outputs": []
  },
  {
   "cell_type": "code",
   "source": [
    "df_sio = df_sio.rename(columns={'Nazwa szkoły/placówki': 'Nazwa szkoły / placówki'})\n",
    "\n",
    "cols_to_keep = [\n",
    "    'Nazwa szkoły / placówki',\n",
    "    'Liczba uczniów',\n",
    "    'Liczba uczniów na wsi',\n",
    "    'Liczba uczniów w mieście do 5tys.',\n",
    "    'Liczba uczniów poza szkołą',\n",
    "]\n",
    "cols_to_keep.extend(ps)\n",
    "\n",
    "df_sio = df_sio[df_sio['Typ szkoły/placówki'] == 'Szkoła podstawowa']\n",
    "df_sio = df_sio[cols_to_keep]\n",
    "\n",
    "\n"
   ],
   "metadata": {
    "id": "jVVwZtISHRJ3",
    "ExecuteTime": {
     "end_time": "2023-10-01T07:03:07.703496Z",
     "start_time": "2023-10-01T07:03:07.695613Z"
    }
   },
   "execution_count": 6,
   "outputs": []
  },
  {
   "cell_type": "markdown",
   "source": [
    "---"
   ],
   "metadata": {
    "id": "HheK1j4lnJGx"
   }
  },
  {
   "cell_type": "markdown",
   "source": [
    "Join data from `etaty`, `staniny` and `SIO` databases into one."
   ],
   "metadata": {
    "collapsed": false
   }
  },
  {
   "cell_type": "code",
   "source": [
    "mini_merge_df = df_etaty.merge(df_staniny, on='Nazwa szkoły / placówki', how='inner')\n",
    "mini_merge_df = mini_merge_df.merge(df_sio, on='Nazwa szkoły / placówki', how='inner')"
   ],
   "metadata": {
    "id": "agP9M4IZL6gx",
    "ExecuteTime": {
     "end_time": "2023-10-01T07:03:14.765797Z",
     "start_time": "2023-10-01T07:03:14.755946Z"
    }
   },
   "execution_count": 7,
   "outputs": []
  },
  {
   "cell_type": "markdown",
   "source": [
    "Add `subwencja`"
   ],
   "metadata": {
    "id": "Sl3OCem8VA4R"
   }
  },
  {
   "cell_type": "code",
   "source": [
    "def get_float(row, field_name):\n",
    "  vals = [float(str(val).replace(' ', '').replace(',', '.')) for val in row[field_name].values]\n",
    "  if len(vals) > 1:\n",
    "    return vals\n",
    "  else:\n",
    "    return vals[0]"
   ],
   "metadata": {
    "id": "hBgRqqUtgNai",
    "ExecuteTime": {
     "end_time": "2023-10-01T07:03:16.225623Z",
     "start_time": "2023-10-01T07:03:16.218952Z"
    }
   },
   "execution_count": 8,
   "outputs": []
  },
  {
   "cell_type": "markdown",
   "source": [
    "Calculate `subwencja` / `il.uczniów` for each category"
   ],
   "metadata": {
    "collapsed": false
   }
  },
  {
   "cell_type": "code",
   "source": [
    "subw_per_type = {}\n",
    "\n",
    "for p in ps:\n",
    "  row = df_subwencja[df_subwencja['Kategoria uczniów (shortcut)'] == p]\n",
    "  total_val = get_float(row, 'Kwota razem w zł')\n",
    "  students = get_float(row, 'Uczniowie przelicz.')\n",
    "\n",
    "  subw_per_stud = total_val/students if students else 0.0\n",
    "  subw_per_type[p] = subw_per_stud"
   ],
   "metadata": {
    "id": "flL50ilMPDyO",
    "ExecuteTime": {
     "end_time": "2023-10-01T07:03:18.736056Z",
     "start_time": "2023-10-01T07:03:18.729627Z"
    }
   },
   "execution_count": 9,
   "outputs": []
  },
  {
   "cell_type": "markdown",
   "source": [
    "Merge `subwencja` data into all previous databases."
   ],
   "metadata": {
    "collapsed": false
   }
  },
  {
   "cell_type": "code",
   "source": [
    "merge_df = mini_merge_df.copy()"
   ],
   "metadata": {
    "id": "eQu-YDE7aIer",
    "ExecuteTime": {
     "end_time": "2023-10-01T07:03:21.971482Z",
     "start_time": "2023-10-01T07:03:21.964032Z"
    }
   },
   "execution_count": 10,
   "outputs": []
  },
  {
   "cell_type": "code",
   "source": [
    "for col, weight in subw_per_type.items():\n",
    "    new_col = f\"{col}_subwencja_total\"\n",
    "    merge_df[col] = get_float(merge_df, col)\n",
    "    merge_df[new_col] = merge_df[col] * weight"
   ],
   "metadata": {
    "colab": {
     "base_uri": "https://localhost:8080/"
    },
    "id": "VJyIh630Ylss",
    "outputId": "a279a168-87e7-45f7-8d77-019ccf87de7f",
    "ExecuteTime": {
     "end_time": "2023-10-01T07:03:24.556823Z",
     "start_time": "2023-10-01T07:03:24.528582Z"
    }
   },
   "execution_count": 11,
   "outputs": [
    {
     "name": "stderr",
     "output_type": "stream",
     "text": [
      "/var/folders/4n/y8_w60j160g2dhf681gtcbk40000gn/T/ipykernel_30890/2281845581.py:4: PerformanceWarning: DataFrame is highly fragmented.  This is usually the result of calling `frame.insert` many times, which has poor performance.  Consider joining all columns at once using pd.concat(axis=1) instead. To get a de-fragmented frame, use `newframe = frame.copy()`\n",
      "  merge_df[new_col] = merge_df[col] * weight\n",
      "/var/folders/4n/y8_w60j160g2dhf681gtcbk40000gn/T/ipykernel_30890/2281845581.py:4: PerformanceWarning: DataFrame is highly fragmented.  This is usually the result of calling `frame.insert` many times, which has poor performance.  Consider joining all columns at once using pd.concat(axis=1) instead. To get a de-fragmented frame, use `newframe = frame.copy()`\n",
      "  merge_df[new_col] = merge_df[col] * weight\n",
      "/var/folders/4n/y8_w60j160g2dhf681gtcbk40000gn/T/ipykernel_30890/2281845581.py:4: PerformanceWarning: DataFrame is highly fragmented.  This is usually the result of calling `frame.insert` many times, which has poor performance.  Consider joining all columns at once using pd.concat(axis=1) instead. To get a de-fragmented frame, use `newframe = frame.copy()`\n",
      "  merge_df[new_col] = merge_df[col] * weight\n",
      "/var/folders/4n/y8_w60j160g2dhf681gtcbk40000gn/T/ipykernel_30890/2281845581.py:4: PerformanceWarning: DataFrame is highly fragmented.  This is usually the result of calling `frame.insert` many times, which has poor performance.  Consider joining all columns at once using pd.concat(axis=1) instead. To get a de-fragmented frame, use `newframe = frame.copy()`\n",
      "  merge_df[new_col] = merge_df[col] * weight\n",
      "/var/folders/4n/y8_w60j160g2dhf681gtcbk40000gn/T/ipykernel_30890/2281845581.py:4: PerformanceWarning: DataFrame is highly fragmented.  This is usually the result of calling `frame.insert` many times, which has poor performance.  Consider joining all columns at once using pd.concat(axis=1) instead. To get a de-fragmented frame, use `newframe = frame.copy()`\n",
      "  merge_df[new_col] = merge_df[col] * weight\n",
      "/var/folders/4n/y8_w60j160g2dhf681gtcbk40000gn/T/ipykernel_30890/2281845581.py:4: PerformanceWarning: DataFrame is highly fragmented.  This is usually the result of calling `frame.insert` many times, which has poor performance.  Consider joining all columns at once using pd.concat(axis=1) instead. To get a de-fragmented frame, use `newframe = frame.copy()`\n",
      "  merge_df[new_col] = merge_df[col] * weight\n",
      "/var/folders/4n/y8_w60j160g2dhf681gtcbk40000gn/T/ipykernel_30890/2281845581.py:4: PerformanceWarning: DataFrame is highly fragmented.  This is usually the result of calling `frame.insert` many times, which has poor performance.  Consider joining all columns at once using pd.concat(axis=1) instead. To get a de-fragmented frame, use `newframe = frame.copy()`\n",
      "  merge_df[new_col] = merge_df[col] * weight\n",
      "/var/folders/4n/y8_w60j160g2dhf681gtcbk40000gn/T/ipykernel_30890/2281845581.py:4: PerformanceWarning: DataFrame is highly fragmented.  This is usually the result of calling `frame.insert` many times, which has poor performance.  Consider joining all columns at once using pd.concat(axis=1) instead. To get a de-fragmented frame, use `newframe = frame.copy()`\n",
      "  merge_df[new_col] = merge_df[col] * weight\n",
      "/var/folders/4n/y8_w60j160g2dhf681gtcbk40000gn/T/ipykernel_30890/2281845581.py:4: PerformanceWarning: DataFrame is highly fragmented.  This is usually the result of calling `frame.insert` many times, which has poor performance.  Consider joining all columns at once using pd.concat(axis=1) instead. To get a de-fragmented frame, use `newframe = frame.copy()`\n",
      "  merge_df[new_col] = merge_df[col] * weight\n",
      "/var/folders/4n/y8_w60j160g2dhf681gtcbk40000gn/T/ipykernel_30890/2281845581.py:4: PerformanceWarning: DataFrame is highly fragmented.  This is usually the result of calling `frame.insert` many times, which has poor performance.  Consider joining all columns at once using pd.concat(axis=1) instead. To get a de-fragmented frame, use `newframe = frame.copy()`\n",
      "  merge_df[new_col] = merge_df[col] * weight\n",
      "/var/folders/4n/y8_w60j160g2dhf681gtcbk40000gn/T/ipykernel_30890/2281845581.py:4: PerformanceWarning: DataFrame is highly fragmented.  This is usually the result of calling `frame.insert` many times, which has poor performance.  Consider joining all columns at once using pd.concat(axis=1) instead. To get a de-fragmented frame, use `newframe = frame.copy()`\n",
      "  merge_df[new_col] = merge_df[col] * weight\n",
      "/var/folders/4n/y8_w60j160g2dhf681gtcbk40000gn/T/ipykernel_30890/2281845581.py:4: PerformanceWarning: DataFrame is highly fragmented.  This is usually the result of calling `frame.insert` many times, which has poor performance.  Consider joining all columns at once using pd.concat(axis=1) instead. To get a de-fragmented frame, use `newframe = frame.copy()`\n",
      "  merge_df[new_col] = merge_df[col] * weight\n",
      "/var/folders/4n/y8_w60j160g2dhf681gtcbk40000gn/T/ipykernel_30890/2281845581.py:4: PerformanceWarning: DataFrame is highly fragmented.  This is usually the result of calling `frame.insert` many times, which has poor performance.  Consider joining all columns at once using pd.concat(axis=1) instead. To get a de-fragmented frame, use `newframe = frame.copy()`\n",
      "  merge_df[new_col] = merge_df[col] * weight\n",
      "/var/folders/4n/y8_w60j160g2dhf681gtcbk40000gn/T/ipykernel_30890/2281845581.py:4: PerformanceWarning: DataFrame is highly fragmented.  This is usually the result of calling `frame.insert` many times, which has poor performance.  Consider joining all columns at once using pd.concat(axis=1) instead. To get a de-fragmented frame, use `newframe = frame.copy()`\n",
      "  merge_df[new_col] = merge_df[col] * weight\n",
      "/var/folders/4n/y8_w60j160g2dhf681gtcbk40000gn/T/ipykernel_30890/2281845581.py:4: PerformanceWarning: DataFrame is highly fragmented.  This is usually the result of calling `frame.insert` many times, which has poor performance.  Consider joining all columns at once using pd.concat(axis=1) instead. To get a de-fragmented frame, use `newframe = frame.copy()`\n",
      "  merge_df[new_col] = merge_df[col] * weight\n",
      "/var/folders/4n/y8_w60j160g2dhf681gtcbk40000gn/T/ipykernel_30890/2281845581.py:4: PerformanceWarning: DataFrame is highly fragmented.  This is usually the result of calling `frame.insert` many times, which has poor performance.  Consider joining all columns at once using pd.concat(axis=1) instead. To get a de-fragmented frame, use `newframe = frame.copy()`\n",
      "  merge_df[new_col] = merge_df[col] * weight\n",
      "/var/folders/4n/y8_w60j160g2dhf681gtcbk40000gn/T/ipykernel_30890/2281845581.py:4: PerformanceWarning: DataFrame is highly fragmented.  This is usually the result of calling `frame.insert` many times, which has poor performance.  Consider joining all columns at once using pd.concat(axis=1) instead. To get a de-fragmented frame, use `newframe = frame.copy()`\n",
      "  merge_df[new_col] = merge_df[col] * weight\n",
      "/var/folders/4n/y8_w60j160g2dhf681gtcbk40000gn/T/ipykernel_30890/2281845581.py:4: PerformanceWarning: DataFrame is highly fragmented.  This is usually the result of calling `frame.insert` many times, which has poor performance.  Consider joining all columns at once using pd.concat(axis=1) instead. To get a de-fragmented frame, use `newframe = frame.copy()`\n",
      "  merge_df[new_col] = merge_df[col] * weight\n",
      "/var/folders/4n/y8_w60j160g2dhf681gtcbk40000gn/T/ipykernel_30890/2281845581.py:4: PerformanceWarning: DataFrame is highly fragmented.  This is usually the result of calling `frame.insert` many times, which has poor performance.  Consider joining all columns at once using pd.concat(axis=1) instead. To get a de-fragmented frame, use `newframe = frame.copy()`\n",
      "  merge_df[new_col] = merge_df[col] * weight\n",
      "/var/folders/4n/y8_w60j160g2dhf681gtcbk40000gn/T/ipykernel_30890/2281845581.py:4: PerformanceWarning: DataFrame is highly fragmented.  This is usually the result of calling `frame.insert` many times, which has poor performance.  Consider joining all columns at once using pd.concat(axis=1) instead. To get a de-fragmented frame, use `newframe = frame.copy()`\n",
      "  merge_df[new_col] = merge_df[col] * weight\n",
      "/var/folders/4n/y8_w60j160g2dhf681gtcbk40000gn/T/ipykernel_30890/2281845581.py:4: PerformanceWarning: DataFrame is highly fragmented.  This is usually the result of calling `frame.insert` many times, which has poor performance.  Consider joining all columns at once using pd.concat(axis=1) instead. To get a de-fragmented frame, use `newframe = frame.copy()`\n",
      "  merge_df[new_col] = merge_df[col] * weight\n",
      "/var/folders/4n/y8_w60j160g2dhf681gtcbk40000gn/T/ipykernel_30890/2281845581.py:4: PerformanceWarning: DataFrame is highly fragmented.  This is usually the result of calling `frame.insert` many times, which has poor performance.  Consider joining all columns at once using pd.concat(axis=1) instead. To get a de-fragmented frame, use `newframe = frame.copy()`\n",
      "  merge_df[new_col] = merge_df[col] * weight\n",
      "/var/folders/4n/y8_w60j160g2dhf681gtcbk40000gn/T/ipykernel_30890/2281845581.py:4: PerformanceWarning: DataFrame is highly fragmented.  This is usually the result of calling `frame.insert` many times, which has poor performance.  Consider joining all columns at once using pd.concat(axis=1) instead. To get a de-fragmented frame, use `newframe = frame.copy()`\n",
      "  merge_df[new_col] = merge_df[col] * weight\n",
      "/var/folders/4n/y8_w60j160g2dhf681gtcbk40000gn/T/ipykernel_30890/2281845581.py:4: PerformanceWarning: DataFrame is highly fragmented.  This is usually the result of calling `frame.insert` many times, which has poor performance.  Consider joining all columns at once using pd.concat(axis=1) instead. To get a de-fragmented frame, use `newframe = frame.copy()`\n",
      "  merge_df[new_col] = merge_df[col] * weight\n"
     ]
    }
   ]
  },
  {
   "cell_type": "markdown",
   "source": [
    "Normalize float values."
   ],
   "metadata": {
    "id": "MVCsna1Xc0uL"
   }
  },
  {
   "cell_type": "code",
   "source": [
    "for col in merge_df.columns:\n",
    "  if col != 'Nazwa szkoły / placówki':\n",
    "    merge_df[col] = get_float(merge_df, col)"
   ],
   "metadata": {
    "id": "v3bbEIA0c2SN",
    "ExecuteTime": {
     "end_time": "2023-10-01T07:03:36.820916Z",
     "start_time": "2023-10-01T07:03:36.818101Z"
    }
   },
   "execution_count": 13,
   "outputs": []
  },
  {
   "cell_type": "code",
   "execution_count": 14,
   "outputs": [
    {
     "data": {
      "text/plain": "                             Nazwa szkoły / placówki  Etat - umowa  \\\n0    SZKOŁA PODSTAWOWA NR 5 IM. HENRYKA SIENKIEWICZA         29.91   \n1  SZKOŁA PODSTAWOWA NR 6 IM. MARII SKŁODOWSKIEJ ...         43.97   \n2  SZKOŁA PODSTAWOWA NR 4 IM. MIKOŁAJA KOPERNIKA ...         25.43   \n3     SZKOŁA PODSTAWOWA NR 9 IM.WŁ.JAGIEŁŁY W KUTNIE         66.71   \n4  SZKOŁA PODSTAWOWA NR 1 IM.TADEUSZA KOŚCIUSZKI ...         92.66   \n5  SZKOŁA PODSTAWOWA NR 2 IM. MARSZAŁKA JÓZEFA PI...         30.51   \n6       SZKOŁA PODSTAWOWA NR 7 IM. ADAMA MICKIEWICZA         32.17   \n\n   Etat - godziny ponadwymiarowe  \\\n0                           4.31   \n1                           7.29   \n2                           4.94   \n3                          16.92   \n4                          14.91   \n5                           3.43   \n6                           3.50   \n\n   Etat niesubwencyjny - formy zatrudnienia inne niż KN  \\\n0                                                0.0      \n1                                                0.0      \n2                                                0.0      \n3                                                0.0      \n4                                                0.0      \n5                                                0.0      \n6                                                0.0      \n\n   Etat niesubwencyjny - nieobecności  Etat subwencyjny - ogółem  \\\n0                                 0.0                      29.91   \n1                                 0.0                      43.97   \n2                                 0.0                      25.43   \n3                                 2.0                      64.71   \n4                                 5.0                      87.66   \n5                                 0.0                      30.51   \n6                                 0.0                      32.17   \n\n   Etat subwencyjny - bez stopnia awansu  Etat subwencyjny - mianowany  \\\n0                                   6.50                          8.61   \n1                                   4.61                         17.87   \n2                                   1.95                          8.78   \n3                                   8.56                          8.55   \n4                                  10.00                         25.33   \n5                                   5.00                          3.83   \n6                                   4.00                          8.95   \n\n   Etat subwencyjny - dyplomowany  Etat niesubwencyjny - ogółem  ...  \\\n0                           14.80                           0.0  ...   \n1                           21.49                           0.0  ...   \n2                           14.70                           0.0  ...   \n3                           47.60                           2.0  ...   \n4                           52.33                           5.0  ...   \n5                           21.68                           0.0  ...   \n6                           19.22                           0.0  ...   \n\n   P63_subwencja_total  P64_subwencja_total  P65_subwencja_total  \\\n0                  0.0                  0.0                  0.0   \n1                  0.0                  0.0                  0.0   \n2                  0.0                  0.0                  0.0   \n3                  0.0                  0.0                  0.0   \n4                  0.0                  0.0                  0.0   \n5                  0.0                  0.0                  0.0   \n6                  0.0                  0.0                  0.0   \n\n   P66_subwencja_total  P67_subwencja_total  P68_subwencja_total  \\\n0                  0.0                  0.0                  0.0   \n1                  0.0                  0.0                  0.0   \n2                  0.0                  0.0                  0.0   \n3                  0.0                  0.0                  0.0   \n4                  0.0                  0.0                  0.0   \n5                  0.0                  0.0                  0.0   \n6                  0.0                  0.0                  0.0   \n\n   P69_subwencja_total  P70_subwencja_total  P71_subwencja_total  \\\n0                  0.0                  0.0                  0.0   \n1                  0.0                  0.0                  0.0   \n2                  0.0                  0.0                  0.0   \n3                  0.0                  0.0                  0.0   \n4                  0.0                  0.0                  0.0   \n5                  0.0                  0.0                  0.0   \n6                  0.0                  0.0                  0.0   \n\n   P72_subwencja_total  \n0                  0.0  \n1                  0.0  \n2                  0.0  \n3                  0.0  \n4                  0.0  \n5                  0.0  \n6                  0.0  \n\n[7 rows x 162 columns]",
      "text/html": "<div>\n<style scoped>\n    .dataframe tbody tr th:only-of-type {\n        vertical-align: middle;\n    }\n\n    .dataframe tbody tr th {\n        vertical-align: top;\n    }\n\n    .dataframe thead th {\n        text-align: right;\n    }\n</style>\n<table border=\"1\" class=\"dataframe\">\n  <thead>\n    <tr style=\"text-align: right;\">\n      <th></th>\n      <th>Nazwa szkoły / placówki</th>\n      <th>Etat - umowa</th>\n      <th>Etat - godziny ponadwymiarowe</th>\n      <th>Etat niesubwencyjny - formy zatrudnienia inne niż KN</th>\n      <th>Etat niesubwencyjny - nieobecności</th>\n      <th>Etat subwencyjny - ogółem</th>\n      <th>Etat subwencyjny - bez stopnia awansu</th>\n      <th>Etat subwencyjny - mianowany</th>\n      <th>Etat subwencyjny - dyplomowany</th>\n      <th>Etat niesubwencyjny - ogółem</th>\n      <th>...</th>\n      <th>P63_subwencja_total</th>\n      <th>P64_subwencja_total</th>\n      <th>P65_subwencja_total</th>\n      <th>P66_subwencja_total</th>\n      <th>P67_subwencja_total</th>\n      <th>P68_subwencja_total</th>\n      <th>P69_subwencja_total</th>\n      <th>P70_subwencja_total</th>\n      <th>P71_subwencja_total</th>\n      <th>P72_subwencja_total</th>\n    </tr>\n  </thead>\n  <tbody>\n    <tr>\n      <th>0</th>\n      <td>SZKOŁA PODSTAWOWA NR 5 IM. HENRYKA SIENKIEWICZA</td>\n      <td>29.91</td>\n      <td>4.31</td>\n      <td>0.0</td>\n      <td>0.0</td>\n      <td>29.91</td>\n      <td>6.50</td>\n      <td>8.61</td>\n      <td>14.80</td>\n      <td>0.0</td>\n      <td>...</td>\n      <td>0.0</td>\n      <td>0.0</td>\n      <td>0.0</td>\n      <td>0.0</td>\n      <td>0.0</td>\n      <td>0.0</td>\n      <td>0.0</td>\n      <td>0.0</td>\n      <td>0.0</td>\n      <td>0.0</td>\n    </tr>\n    <tr>\n      <th>1</th>\n      <td>SZKOŁA PODSTAWOWA NR 6 IM. MARII SKŁODOWSKIEJ ...</td>\n      <td>43.97</td>\n      <td>7.29</td>\n      <td>0.0</td>\n      <td>0.0</td>\n      <td>43.97</td>\n      <td>4.61</td>\n      <td>17.87</td>\n      <td>21.49</td>\n      <td>0.0</td>\n      <td>...</td>\n      <td>0.0</td>\n      <td>0.0</td>\n      <td>0.0</td>\n      <td>0.0</td>\n      <td>0.0</td>\n      <td>0.0</td>\n      <td>0.0</td>\n      <td>0.0</td>\n      <td>0.0</td>\n      <td>0.0</td>\n    </tr>\n    <tr>\n      <th>2</th>\n      <td>SZKOŁA PODSTAWOWA NR 4 IM. MIKOŁAJA KOPERNIKA ...</td>\n      <td>25.43</td>\n      <td>4.94</td>\n      <td>0.0</td>\n      <td>0.0</td>\n      <td>25.43</td>\n      <td>1.95</td>\n      <td>8.78</td>\n      <td>14.70</td>\n      <td>0.0</td>\n      <td>...</td>\n      <td>0.0</td>\n      <td>0.0</td>\n      <td>0.0</td>\n      <td>0.0</td>\n      <td>0.0</td>\n      <td>0.0</td>\n      <td>0.0</td>\n      <td>0.0</td>\n      <td>0.0</td>\n      <td>0.0</td>\n    </tr>\n    <tr>\n      <th>3</th>\n      <td>SZKOŁA PODSTAWOWA NR 9 IM.WŁ.JAGIEŁŁY W KUTNIE</td>\n      <td>66.71</td>\n      <td>16.92</td>\n      <td>0.0</td>\n      <td>2.0</td>\n      <td>64.71</td>\n      <td>8.56</td>\n      <td>8.55</td>\n      <td>47.60</td>\n      <td>2.0</td>\n      <td>...</td>\n      <td>0.0</td>\n      <td>0.0</td>\n      <td>0.0</td>\n      <td>0.0</td>\n      <td>0.0</td>\n      <td>0.0</td>\n      <td>0.0</td>\n      <td>0.0</td>\n      <td>0.0</td>\n      <td>0.0</td>\n    </tr>\n    <tr>\n      <th>4</th>\n      <td>SZKOŁA PODSTAWOWA NR 1 IM.TADEUSZA KOŚCIUSZKI ...</td>\n      <td>92.66</td>\n      <td>14.91</td>\n      <td>0.0</td>\n      <td>5.0</td>\n      <td>87.66</td>\n      <td>10.00</td>\n      <td>25.33</td>\n      <td>52.33</td>\n      <td>5.0</td>\n      <td>...</td>\n      <td>0.0</td>\n      <td>0.0</td>\n      <td>0.0</td>\n      <td>0.0</td>\n      <td>0.0</td>\n      <td>0.0</td>\n      <td>0.0</td>\n      <td>0.0</td>\n      <td>0.0</td>\n      <td>0.0</td>\n    </tr>\n    <tr>\n      <th>5</th>\n      <td>SZKOŁA PODSTAWOWA NR 2 IM. MARSZAŁKA JÓZEFA PI...</td>\n      <td>30.51</td>\n      <td>3.43</td>\n      <td>0.0</td>\n      <td>0.0</td>\n      <td>30.51</td>\n      <td>5.00</td>\n      <td>3.83</td>\n      <td>21.68</td>\n      <td>0.0</td>\n      <td>...</td>\n      <td>0.0</td>\n      <td>0.0</td>\n      <td>0.0</td>\n      <td>0.0</td>\n      <td>0.0</td>\n      <td>0.0</td>\n      <td>0.0</td>\n      <td>0.0</td>\n      <td>0.0</td>\n      <td>0.0</td>\n    </tr>\n    <tr>\n      <th>6</th>\n      <td>SZKOŁA PODSTAWOWA NR 7 IM. ADAMA MICKIEWICZA</td>\n      <td>32.17</td>\n      <td>3.50</td>\n      <td>0.0</td>\n      <td>0.0</td>\n      <td>32.17</td>\n      <td>4.00</td>\n      <td>8.95</td>\n      <td>19.22</td>\n      <td>0.0</td>\n      <td>...</td>\n      <td>0.0</td>\n      <td>0.0</td>\n      <td>0.0</td>\n      <td>0.0</td>\n      <td>0.0</td>\n      <td>0.0</td>\n      <td>0.0</td>\n      <td>0.0</td>\n      <td>0.0</td>\n      <td>0.0</td>\n    </tr>\n  </tbody>\n</table>\n<p>7 rows × 162 columns</p>\n</div>"
     },
     "execution_count": 14,
     "metadata": {},
     "output_type": "execute_result"
    }
   ],
   "source": [
    "merge_df"
   ],
   "metadata": {
    "collapsed": false,
    "ExecuteTime": {
     "end_time": "2023-10-01T07:03:45.845296Z",
     "start_time": "2023-10-01T07:03:45.832788Z"
    }
   }
  },
  {
   "cell_type": "markdown",
   "source": [
    "---"
   ],
   "metadata": {
    "id": "oHYB0TM1RcDW"
   }
  },
  {
   "cell_type": "code",
   "source": [
    "df_dochody = pd.read_csv('dochody_2022.csv')\n",
    "df_wydatki = pd.read_csv('wydatki_2022.csv')"
   ],
   "metadata": {
    "id": "Sc4lnnVfR7W3",
    "ExecuteTime": {
     "end_time": "2023-10-01T07:04:15.922962Z",
     "start_time": "2023-10-01T07:04:15.913087Z"
    }
   },
   "execution_count": 15,
   "outputs": []
  },
  {
   "cell_type": "markdown",
   "source": [
    "Clean and filter `dochody`, map school names to format used in the previous databases."
   ],
   "metadata": {
    "id": "VbRd_xKNSLE-"
   }
  },
  {
   "cell_type": "code",
   "source": [
    "df_dochody = df_dochody.rename(columns={'Nazwa': 'Nazwa szkoły / placówki'})\n",
    "\n",
    "names_to_replace = {\n",
    "    \"Szkoła Podstawowa Nr 5\": \"SZKOŁA PODSTAWOWA NR 5 IM. HENRYKA SIENKIEWICZA\",\n",
    "    \"Szkoła Podstawowa Nr 6\": \"SZKOŁA PODSTAWOWA NR 6 IM. MARII SKŁODOWSKIEJ - CURIE W KUTNIE\",\n",
    "    \"Szkoła Podstawowa Nr 4\": \"SZKOŁA PODSTAWOWA NR 4 IM. MIKOŁAJA KOPERNIKA W KUTNIE\",\n",
    "    \"Szkoła Podstawowa Nr 9\": \"SZKOŁA PODSTAWOWA NR 9 IM.WŁ.JAGIEŁŁY W KUTNIE\",\n",
    "    \"Szkoła Podstawowa Nr 1\": \"SZKOŁA PODSTAWOWA NR 1 IM.TADEUSZA KOŚCIUSZKI W KUTNIE\",\n",
    "    \"Szkoła Podstawowa Nr 2\": \"SZKOŁA PODSTAWOWA NR 2 IM. MARSZAŁKA JÓZEFA PIŁSUDSKIEGO\",\n",
    "    \"Szkoła Podstawowa Nr 7\": \"SZKOŁA PODSTAWOWA NR 7 IM. ADAMA MICKIEWICZA\"\n",
    "}\n",
    "cols_to_keep = [\n",
    "    'Nazwa szkoły / placówki',\n",
    "    'DW',\n",
    "    'Paragraf'\n",
    "]\n",
    "df_dochody.replace(names_to_replace, inplace=True)\n",
    "df_dochody = df_dochody[cols_to_keep]\n",
    "\n",
    "df_dochody['DW'] = get_float(df_dochody, 'DW')"
   ],
   "metadata": {
    "id": "drvumiCPRVb4",
    "ExecuteTime": {
     "end_time": "2023-10-01T07:04:18.936311Z",
     "start_time": "2023-10-01T07:04:18.927024Z"
    }
   },
   "execution_count": 16,
   "outputs": []
  },
  {
   "cell_type": "markdown",
   "source": [
    "Clean and filter `wydatki`, map school names to format used in the previous databases."
   ],
   "metadata": {
    "id": "87R5AGnDTMym"
   }
  },
  {
   "cell_type": "code",
   "source": [
    "df_wydatki = df_wydatki.rename(columns={'Nazwa': 'Nazwa szkoły / placówki'})\n",
    "\n",
    "cols_to_keep = [\n",
    "    'Nazwa szkoły / placówki',\n",
    "    'WW',\n",
    "    'Paragraf'\n",
    "]\n",
    "\n",
    "df_wydatki.replace(names_to_replace, inplace=True)\n",
    "df_wydatki = df_wydatki[cols_to_keep]\n",
    "\n",
    "df_wydatki['WW'] = get_float(df_wydatki, 'WW')"
   ],
   "metadata": {
    "id": "b1bHEAkOS2Cx",
    "ExecuteTime": {
     "end_time": "2023-10-01T07:04:20.759274Z",
     "start_time": "2023-10-01T07:04:20.749408Z"
    }
   },
   "execution_count": 17,
   "outputs": []
  },
  {
   "cell_type": "markdown",
   "source": [
    "---"
   ],
   "metadata": {
    "id": "lcPvq3kFoeUE"
   }
  },
  {
   "cell_type": "markdown",
   "source": [
    "Add school name shortcuts to all databases."
   ],
   "metadata": {
    "collapsed": false
   }
  },
  {
   "cell_type": "code",
   "source": [
    "name_to_shortcut = {\n",
    "    \"SZKOŁA PODSTAWOWA NR 5 IM. HENRYKA SIENKIEWICZA\": \"Sp5\",\n",
    "    \"SZKOŁA PODSTAWOWA NR 6 IM. MARII SKŁODOWSKIEJ - CURIE W KUTNIE\": \"Sp6\",\n",
    "    \"SZKOŁA PODSTAWOWA NR 4 IM. MIKOŁAJA KOPERNIKA W KUTNIE\": \"Sp4\",\n",
    "    \"SZKOŁA PODSTAWOWA NR 9 IM.WŁ.JAGIEŁŁY W KUTNIE\": \"Sp9\",\n",
    "    \"SZKOŁA PODSTAWOWA NR 1 IM.TADEUSZA KOŚCIUSZKI W KUTNIE\": \"Sp1\",\n",
    "    \"SZKOŁA PODSTAWOWA NR 2 IM. MARSZAŁKA JÓZEFA PIŁSUDSKIEGO\": \"Sp2\",\n",
    "    \"SZKOŁA PODSTAWOWA NR 7 IM. ADAMA MICKIEWICZA\": \"Sp7\",\n",
    "}"
   ],
   "metadata": {
    "id": "L0t31v0uofML",
    "ExecuteTime": {
     "end_time": "2023-10-01T07:04:23.262679Z",
     "start_time": "2023-10-01T07:04:23.256951Z"
    }
   },
   "execution_count": 18,
   "outputs": []
  },
  {
   "cell_type": "code",
   "source": [
    "def add_shortcut(df):\n",
    "  df['Nazwa_short'] = df['Nazwa szkoły / placówki'].map(name_to_shortcut)"
   ],
   "metadata": {
    "id": "huJgnE7No_6i",
    "ExecuteTime": {
     "end_time": "2023-10-01T07:04:24.856550Z",
     "start_time": "2023-10-01T07:04:24.848469Z"
    }
   },
   "execution_count": 19,
   "outputs": []
  },
  {
   "cell_type": "code",
   "source": [
    "add_shortcut(df_dochody)\n",
    "add_shortcut(df_wydatki)\n",
    "add_shortcut(merge_df)"
   ],
   "metadata": {
    "colab": {
     "base_uri": "https://localhost:8080/"
    },
    "id": "COARRWf7qdbI",
    "outputId": "7226cc42-cb3a-40d4-df49-55c61cff976c",
    "ExecuteTime": {
     "end_time": "2023-10-01T07:04:29.937500Z",
     "start_time": "2023-10-01T07:04:29.926715Z"
    }
   },
   "execution_count": 20,
   "outputs": [
    {
     "name": "stderr",
     "output_type": "stream",
     "text": [
      "/var/folders/4n/y8_w60j160g2dhf681gtcbk40000gn/T/ipykernel_30890/2673255479.py:2: PerformanceWarning: DataFrame is highly fragmented.  This is usually the result of calling `frame.insert` many times, which has poor performance.  Consider joining all columns at once using pd.concat(axis=1) instead. To get a de-fragmented frame, use `newframe = frame.copy()`\n",
      "  df['Nazwa_short'] = df['Nazwa szkoły / placówki'].map(name_to_shortcut)\n"
     ]
    }
   ]
  },
  {
   "cell_type": "code",
   "source": [
    "df_dochody.to_csv('dochody_clean.csv')\n",
    "df_wydatki.to_csv('wydatki_clean.csv')\n",
    "merge_df.to_csv('merge.csv')"
   ],
   "metadata": {
    "id": "5Pb0IS6_TWx6",
    "ExecuteTime": {
     "end_time": "2023-10-01T07:04:38.337606Z",
     "start_time": "2023-10-01T07:04:38.312354Z"
    }
   },
   "execution_count": 21,
   "outputs": []
  }
 ]
}
